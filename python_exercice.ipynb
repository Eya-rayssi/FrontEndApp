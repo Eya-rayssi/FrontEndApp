{
  "nbformat": 4,
  "nbformat_minor": 0,
  "metadata": {
    "colab": {
      "provenance": [],
      "authorship_tag": "ABX9TyOBychgpkG62KoS5/zbDJso",
      "include_colab_link": true
    },
    "kernelspec": {
      "name": "python3",
      "display_name": "Python 3"
    },
    "language_info": {
      "name": "python"
    }
  },
  "cells": [
    {
      "cell_type": "markdown",
      "metadata": {
        "id": "view-in-github",
        "colab_type": "text"
      },
      "source": [
        "<a href=\"https://colab.research.google.com/github/Eya-rayssi/FrontEndApp/blob/main/python_exercice.ipynb\" target=\"_parent\"><img src=\"https://colab.research.google.com/assets/colab-badge.svg\" alt=\"Open In Colab\"/></a>"
      ]
    },
    {
      "cell_type": "markdown",
      "source": [],
      "metadata": {
        "id": "cGz2qRMEEqar"
      }
    },
    {
      "cell_type": "markdown",
      "source": [
        "1) Créer une fonction qui permet de remplir un fichier patient.txt à partir d’un dictionnaire nommé DPatient :\n",
        "Pour remplir le fichier patient.txt à partir du dictionnaire DPatient, vous pouvez utiliser la fonction write() de Python pour écrire les valeurs du dictionnaire dans le fichier. Voici comment cela pourrait être fait :\n"
      ],
      "metadata": {
        "id": "iztY-vV2EtF_"
      }
    },
    {
      "cell_type": "code",
      "execution_count": null,
      "metadata": {
        "id": "fTBW1eyQEpji"
      },
      "outputs": [],
      "source": [
        "def remplir_fichier_patient(DPatient):\n",
        "  with open(\"patient.txt\", \"w\") as f:\n",
        "    f.write(DPatient['CIN'] + \";\")\n",
        "    f.write(DPatient['nom'] + \";\")\n",
        "    f.write(DPatient['prenom'] + \";\")\n",
        "    f.write(DPatient['sexe'] + \";\")\n",
        "    f.write(DPatient['age'] + \"\\n\")\n"
      ]
    },
    {
      "cell_type": "markdown",
      "source": [
        "2) Créer une fonction qui permet d’ajouter un patient dans le fichier patient.txt :\n",
        "Pour ajouter un patient au fichier patient.txt, vous pouvez utiliser la même approche que celle décrite dans la fonction précédente, en utilisant la fonction write() et en ouvrant le fichier en mode \"a\" (append) pour ajouter les données à la fin du fichier. Voici comment cela pourrait être fait :"
      ],
      "metadata": {
        "id": "SITfp3kkEvtW"
      }
    },
    {
      "cell_type": "code",
      "source": [
        "def ajouter_patient(DPatient):\n",
        "  with open(\"patient.txt\", \"a\") as f:\n",
        "    f.write(DPatient['CIN'] + \";\")\n",
        "    f.write(DPatient['nom'] + \";\")\n",
        "    f.write(DPatient['prenom'] + \";\")\n",
        "    f.write(DPatient['sexe'] + \";\")\n",
        "    f.write(DPatient['age'] + \"\\n\")\n"
      ],
      "metadata": {
        "id": "nIZR0BpDE6fA"
      },
      "execution_count": null,
      "outputs": []
    },
    {
      "cell_type": "code",
      "source": [],
      "metadata": {
        "id": "L80obfjVFCIp"
      },
      "execution_count": null,
      "outputs": []
    },
    {
      "cell_type": "markdown",
      "source": [
        "3) Créer une fonction qui permet de supprimer un patient du fichier patient.txt :\n",
        " Pour supprimer un patient du fichier patient.txt, vous pouvez utiliser la fonction readlines() de Python pour lire toutes les lignes du fichier dans une liste, puis parcourir cette liste et ne conserver que les lignes qui ne contiennent pas l'identifiant du patient à supprimer. Ensuite, vous pouvez réécrire le fichier en utilisant la fonction write() et en ouvrant le fichier en mode \"w\" (write). Voici comment cela pourrait être fait :"
      ],
      "metadata": {
        "id": "JbDQcFWdFAbI"
      }
    },
    {
      "cell_type": "code",
      "source": [
        "def supprimer_patient(CIN):\n",
        "  with open(\"patient.txt\", \"r\") as f:\n",
        "    lines = f.readlines()\n",
        "  with open(\"patient.txt\", \"w\") as f:\n",
        "    for line in lines:\n",
        "      if CIN not in line:\n",
        "        f\n"
      ],
      "metadata": {
        "id": "xtFJxk1vFEbG"
      },
      "execution_count": null,
      "outputs": []
    },
    {
      "cell_type": "markdown",
      "source": [
        "4) Créer une fonction qui permet d’ajouter un rendez-vous dans un fichier rdv.txt\n",
        "Pour ajouter un rendez-vous dans le fichier rdv.txt, vous pouvez utiliser la fonction write() de Python et ouvrir le fichier en mode \"a\" (append) pour ajouter les données à la fin du fichier. Voici comment cela pourrait être fait :"
      ],
      "metadata": {
        "id": "ORPQrB5FFF0H"
      }
    },
    {
      "cell_type": "code",
      "source": [
        "def ajouter_rdv(CIN, date, heure):\n",
        "  with open(\"rdv.txt\", \"a\") as f:\n",
        "    f.write(CIN + \";\")\n",
        "    f.write(date + \";\")\n",
        "    f.write(heure + \"\\n\")\n"
      ],
      "metadata": {
        "id": "-ri4U_h8FloW"
      },
      "execution_count": null,
      "outputs": []
    },
    {
      "cell_type": "markdown",
      "source": [
        "5) Créer une fonction qui permet d’annuler un rendez-vous :\n",
        "Pour annuler un rendez-vous, vous pouvez utiliser la même approche que celle décrite dans la fonction de suppression de patient, en utilisant la fonction readlines() pour lire toutes les lignes du fichier rdv.txt dans une liste, puis parcourir cette liste et ne conserver que les lignes qui ne contiennent pas l'identifiant du patient ou la date et l'heure du rendez-vous à annuler. Ensuite, vous pouvez réécrire le fichier en utilisant la fonction write() et en ouvrant le fichier en mode \"w\" (write). Voici comment cela pourrait être fait :"
      ],
      "metadata": {
        "id": "E5YW8t6hFrUF"
      }
    },
    {
      "cell_type": "code",
      "source": [
        "def annuler_rdv(CIN, date, heure):\n",
        "  with open(\"rdv.txt\", \"r\") as f:\n",
        "    lines = f.readlines()\n",
        "  with open(\"rdv.txt\", \"w\") as f:\n",
        "    for line in lines:\n",
        "      if CIN not in line and date not in line and heure not in line:\n",
        "        f.write(line)\n"
      ],
      "metadata": {
        "id": "EFSHmLc4Fwks"
      },
      "execution_count": null,
      "outputs": []
    },
    {
      "cell_type": "markdown",
      "source": [
        "6) Créer une fonction qui permet de modifier un rendez-vous\n",
        "Pour modifier un rendez-vous, vous pouvez utiliser la même approche que celle décrite dans la fonction d'annulation de rendez-vous, en utilisant la fonction readlines() pour lire toutes les lignes du fichier rdv.txt dans une liste, puis parcourir cette liste et remplacer la ligne contenant le rendez-vous à modifier par la nouvelle date et heure souhaitées. Ensuite, vous pouvez réécrire le fichier en utilisant la fonction write() et en ouvrant le fichier en mode \"w\" (write). Voici comment cela pourrait être fait :"
      ],
      "metadata": {
        "id": "LVjMevQ1F397"
      }
    },
    {
      "cell_type": "code",
      "source": [
        "def modifier_rdv(CIN, ancienne_date, ancienne_heure, nouvelle_date, nouvelle_heure):\n",
        "  with open(\"rdv.txt\", \"r\") as f:\n",
        "    lines = f.readlines()\n",
        "  with open(\"rdv.txt\", \"w\") as f:\n",
        "    for line in lines:\n",
        "      if CIN in line and ancienne_date in line and ancienne_heure in line:\n",
        "        f.write(CIN + \";\" + nouvelle_date + \";\" + nouvelle_heure + \"\\n\")\n",
        "      else:\n",
        "        f.write(line)\n"
      ],
      "metadata": {
        "id": "CcNsUJdQF5D7"
      },
      "execution_count": null,
      "outputs": []
    },
    {
      "cell_type": "markdown",
      "source": [
        "7) Créer une fonction qui permet de créer une ordonnance pour chaque consultation (nomprénom patient.txt). La structure de la fichier se sera comme suit :\n",
        "La 1ere ligne contient l’identifiant de patient, nom, prénom, date de rendez-vous, heure\n",
        "Les autres lignes représentent un médicament (nom-médicament, quantité, duré de traitement) :\n",
        "Pour créer une ordonnance pour chaque consultation, vous pouvez utiliser la fonction write() de Python et ouvrir le fichier en mode \"a\" (append) pour ajouter les données à la fin du fichier. Vous pouvez également utiliser la fonction readlines() pour lire les informations sur le patient et le rendez-vous à partir des fichiers patient.txt et rdv.txt, puis les utiliser pour écrire la première ligne de l'ordonnance. Ensuite, vous pouvez ajouter les informations sur les médicaments en utilisant la fonction write(). Voici comment cela pourrait être fait :\n",
        "\n"
      ],
      "metadata": {
        "id": "9ou_8EBtGKQ1"
      }
    },
    {
      "cell_type": "code",
      "source": [
        "def creer_ordonnance(CIN, date, heure, medicaments):\n",
        "  with open(\"patient.txt\", \"r\") as f:\n",
        "    lines = f.readlines()\n",
        "  for line in lines:\n",
        "    if CIN in line:\n",
        "      patient = line.strip().split(\";\")\n",
        "  with open(\"rdv.txt\", \"r\") as f:\n",
        "    lines = f.readlines()\n",
        "  for line in lines:\n",
        "    if CIN in line and date in line and\n"
      ],
      "metadata": {
        "id": "AupeL0byGOas"
      },
      "execution_count": null,
      "outputs": []
    },
    {
      "cell_type": "markdown",
      "source": [
        "8) Créer une fonction historique patient qui contient les historiques des consultations de\n",
        "chaque patient (historique_nom patient.txt).\n",
        "Pour créer un historique des consultations pour chaque patient, vous pouvez utiliser la fonction write() de Python et ouvrir le fichier en mode \"a\" (append) pour ajouter les données à la fin du fichier. Vous pouvez également utiliser la fonction readlines() pour lire les informations sur les rendez-vous à partir du fichier rdv.txt, puis les utiliser pour écrire chaque consultation dans l'historique du patient correspondant. Voici comment cela pourrait être fait :"
      ],
      "metadata": {
        "id": "mH6NRNKLGRZz"
      }
    },
    {
      "cell_type": "code",
      "source": [
        "def historique_patient(CIN):\n",
        "  with open(\"rdv.txt\", \"r\") as f:\n",
        "    lines = f.readlines()\n",
        "  with open(\"historique_\" + CIN + \".txt\", \"a\") as f:\n",
        "    for line in lines:\n",
        "      if CIN in line:\n",
        "        consultation = line.strip().split(\";\")\n",
        "        f.write(\"Consultation du \" + consultation[1] + \" à \" + consultation[2] + \"\\n\")\n"
      ],
      "metadata": {
        "id": "MzTsKjO6GWxS"
      },
      "execution_count": null,
      "outputs": []
    },
    {
      "cell_type": "markdown",
      "source": [
        "9) Créer une fonction qui permet de tracer la courbe de nombre des consultations pour\n",
        "chaque mois.\n",
        "\n",
        "Pour tracer une courbe du nombre de consultations pour chaque mois, vous pouvez utiliser un module de visualisation de données tel que Matplotlib. Voici comment cela pourrait être fait :\n",
        "\n",
        "Tout d'abord, commencez par importer les modules matplotlib.pyplot et datetime :\n",
        "\n"
      ],
      "metadata": {
        "id": "NIOWiNynGi-0"
      }
    },
    {
      "cell_type": "code",
      "source": [
        "import matplotlib.pyplot as plt\n",
        "from datetime import datetime\n"
      ],
      "metadata": {
        "id": "TgP6XaIHGj8h"
      },
      "execution_count": null,
      "outputs": []
    },
    {
      "cell_type": "markdown",
      "source": [
        "Pour tracer une courbe du nombre de consultations pour chaque mois, vous pouvez utiliser un module de visualisation de données tel que Matplotlib. Voici comment cela pourrait être fait :\n",
        "\n",
        "Tout d'abord, commencez par importer les modules matplotlib.pyplot et datetime :\n",
        "Copy code\n",
        "import matplotlib.pyplot as plt\n",
        "from datetime import datetime\n",
        "Ensuite, utilisez la fonction readlines() pour lire les informations sur les rendez-vous à partir du fichier rdv.txt et les stocker dans une liste.\n",
        "\n",
        "Créez un dictionnaire vide nommé consultations_par_mois qui va stocker le nombre de consultations pour chaque mois.\n",
        "\n",
        "Parcourez la liste de rendez-vous et utilisez la fonction datetime.strptime() pour convertir les dates en objets datetime, puis utilisez la méthode month pour récupérer le mois de chaque rendez-vous. Incrémentez le compteur correspondant dans le dictionnaire consultations_par_mois pour chaque mois. Voici comment cela pourrait être fait "
      ],
      "metadata": {
        "id": "ZYDiQmapG0-S"
      }
    },
    {
      "cell_type": "code",
      "source": [
        "def courbe_consultations():\n",
        "  with open(\"rdv.txt\", \"r\") as f:\n",
        "    lines = f.readlines()\n",
        "\n",
        "  consultations_par_mois = {}\n",
        "\n",
        "  for line in lines:\n",
        "    consultation = line.strip().split(\";\")\n",
        "    date = datetime.strptime(consultation[1], \"%d/%m/%Y\")\n",
        "    mois = date.month\n",
        "    if mois in consultations_par_mois:\n",
        "      consultations_par_mois[mois] += 1\n",
        "    else:\n",
        "      consultations_par_mois[mois] = 1\n"
      ],
      "metadata": {
        "id": "nGCz_MRCG8F4"
      },
      "execution_count": null,
      "outputs": []
    },
    {
      "cell_type": "markdown",
      "source": [
        "Enfin, utilisez la fonction plot() de Matplotlib pour tracer une courbe du nombre de consultations par mois. Voici comment cela pourrait être fait :\n"
      ],
      "metadata": {
        "id": "uujdO3n7G-Ff"
      }
    },
    {
      "cell_type": "code",
      "source": [
        "def courbe_consultations():\n",
        "  ...\n",
        "\n",
        "  plt.plot(consultations_par_mois.keys(), consultations_par_mois.values())\n",
        "  plt.xlabel(\"Mois\")\n",
        "  plt.ylabel(\"Nombre de consultations\")\n",
        "  plt.show()\n"
      ],
      "metadata": {
        "id": "Z1DF1fPJHGa6"
      },
      "execution_count": null,
      "outputs": []
    },
    {
      "cell_type": "markdown",
      "source": [
        "10) Créer une fonction qui permet de tracer la courbe de nombre des consultations pour\n",
        "chaque année.\n",
        "Créez un dictionnaire vide nommé consultations_par_annee qui va stocker le nombre de consultations pour chaque année.\n",
        "\n",
        "Parcourez la liste de rendez-vous et utilisez la fonction datetime.strptime() pour convertir les dates en objets datetime, puis utilisez la méthode year pour récupérer l'année de chaque rendez-vous. Incrémentez le compteur correspondant dans le dictionnaire consultations_par_annee pour chaque année. \n",
        "Enfin, utilisez la fonction plot() de Matplotlib pour tracer une courbe du nombre de consultations par année. Voici comment cela pourrait être fait :"
      ],
      "metadata": {
        "id": "cZVw7rgDGqxY"
      }
    },
    {
      "cell_type": "code",
      "source": [
        "def courbe_consultations():\n",
        "  with open(\"rdv.txt\", \"r\") as f:\n",
        "    lines = f.readlines()\n",
        "\n",
        "  consultations_par_annee = {}\n",
        "\n",
        "  for line in lines:\n",
        "    consultation = line.strip().split(\";\")\n",
        "    date = datetime.strptime(consultation[1], \"%d/%m/%Y\")\n",
        "    annee = date.year\n",
        "    if annee in consultations_par_annee:\n",
        "      consultations_par_annee[annee] += 1\n",
        "    else:\n",
        "      consultations_par_annee[annee] = 1\n",
        "      def courbe_consultations():\n",
        "  ...\n",
        "\n",
        "  plt.plot(consultations_par_annee.keys(), consultations_par_annee.values())\n",
        "  plt.xlabel(\"Année\")\n",
        "  plt.ylabel(\"Nombre de consultations\")\n",
        "  plt.show()\n",
        "\n"
      ],
      "metadata": {
        "id": "GYmKV72HHQU9"
      },
      "execution_count": null,
      "outputs": []
    },
    {
      "cell_type": "markdown",
      "source": [
        "11) Ecrire le programme principal nécessaire qui permet d’exécuter les fonctions ci-dessus\n",
        "Voici comment votre programme principal pourrait ressembler pour exécuter les fonctions ci-dessus à travers un menu :\n",
        "\n"
      ],
      "metadata": {
        "id": "X8LZxXP4HQ8p"
      }
    },
    {
      "cell_type": "code",
      "source": [
        "def menu():\n",
        "  print(\"--- Menu ---\")\n",
        "  print(\"1. Ajouter un patient\")\n",
        "  print(\"2. Supprimer un patient\")\n",
        "  print(\"3. Ajouter un rendez-vous\")\n",
        "  print(\"4. Annuler un rendez-vous\")\n",
        "  print(\"5. Modifier un rendez-vous\")\n",
        "  print(\"6. Créer une ordonnance\")\n",
        "  print(\"7. Afficher l'historique d'un patient\")\n",
        "  print(\"8. Tracer la courbe du nombre de consultations par mois\")\n",
        "  print(\"9. Tracer la courbe du nombre de consultations par année\")\n",
        "  print(\"0. Quitter\")\n",
        "  choix = input(\"Entrez votre choix : \")\n",
        "  return choix\n",
        "\n",
        "while True:\n",
        "  choix = menu()\n",
        "  if choix == \"1\":\n",
        "    # Appeler la fonction d'ajout de patient\n",
        "  elif choix == \"2\":\n",
        "    # Appeler la fonction de suppression de patient\n",
        "  elif choix == \"3\":\n",
        "    # Appeler la fonction d'ajout de rendez-vous\n",
        "  elif choix == \"4\":\n",
        "    # Appeler la fonction d'annulation de rendez-vous\n",
        "  elif choix == \"5\":\n",
        "    # Appeler la fonction de modification de rendez-vous\n",
        "  elif choix == \"6\":\n",
        "    # Appeler la fonction de création d'ordonnance\n",
        "  elif choix == \"7\":\n",
        "    # Appeler la fonction d'affichage de l'historique d'un patient\n",
        "  elif choix == \"8\":\n",
        "    # Appeler la fonction de tracé de la courbe du nombre de consultations par mois\n",
        "  elif choix == \"9\":\n",
        "    # Appeler la fonction de tracé de la courbe du nombre de consultations par année\n",
        "  elif choix == \"0\":\n",
        "    break\n",
        "  else:\n",
        "    print(\"Choix non valide\")\n"
      ],
      "metadata": {
        "id": "DbrTVgWFHo4s"
      },
      "execution_count": null,
      "outputs": []
    }
  ]
}